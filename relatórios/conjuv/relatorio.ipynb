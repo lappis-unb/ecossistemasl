{
 "cells": [
  {
   "cell_type": "code",
   "execution_count": 47,
   "metadata": {},
   "outputs": [],
   "source": [
    "import pandas as pd\n",
    "import matplotlib.pyplot as plt\n",
    "from tabulate import tabulate\n",
    "from datetime import date\n",
    "import os"
   ]
  },
  {
   "cell_type": "code",
   "execution_count": 48,
   "metadata": {},
   "outputs": [],
   "source": [
    "DARK_BLUE = '#3557A9'\n",
    "DARK_GREEN = '#50974F'\n",
    "DARK_RED = '#D43F2C'\n",
    "DARK_YELLOW = '#F8D65A'\n",
    "\n",
    "BLUE = '#627EC3'\n",
    "GREEN = '#7ABA79'\n",
    "RED = '#E36656'\n",
    "YELLOW = '#FFE480'\n",
    "\n",
    "LIGHT_BLUE = '#8CA5E2'\n",
    "LIGHT_GREEN = '#A3D9A3'\n",
    "LIGHT_RED = '#F6887A'\n",
    "LIGHT_YELLOW = '#FFEA9D'"
   ]
  },
  {
   "cell_type": "code",
   "execution_count": 49,
   "metadata": {},
   "outputs": [],
   "source": [
    "proposals_path = 'C:\\\\Users\\\\leibr\\\\Documents\\\\Lappis\\\\conjuv\\\\data\\\\conjuv_propostas.csv'\n",
    "\n",
    "df_sheets = pd.read_csv(proposals_path, sep=';', encoding='utf-8')\n",
    "\n",
    "import pandas as pd\n",
    "\n",
    "# Crie um filtro para selecionar os dados desejados\n",
    "data = (df_sheets['participatory_space/url'] == 'http://brasilparticipativo.presidencia.gov.br/assemblies/confjuv4?assembly_slug=confjuv4') & \\\n",
    "         (~df_sheets['state'].isin(['rejected', 'withdrawn']))\n",
    "\n",
    "# Aplique o filtro ao DataFrame\n",
    "new_data = df_sheets[data]\n",
    "\n",
    "report_path = 'relatorio_conjuv.md'"
   ]
  },
  {
   "cell_type": "markdown",
   "metadata": {},
   "source": [
    "### Top 20 propostas por voto"
   ]
  },
  {
   "cell_type": "code",
   "execution_count": 50,
   "metadata": {},
   "outputs": [],
   "source": [
    "# Classificar os dados por número de votos em ordem decrescente\n",
    "new_data = new_data.sort_values(by='supports', ascending=False)\n",
    "\n",
    "# Selecionar os Top 20 Programas\n",
    "top_20_programas = new_data.head(20)\n",
    "\n",
    "# Criar um novo DataFrame para a Tabela de Ranking\n",
    "tabela_ranking = top_20_programas[['title/pt-BR', 'category/name/pt-BR', 'supports', 'comments']].copy()\n",
    "tabela_ranking.columns = ['Propostas', 'Temas', 'Nº de Votos', 'Nº de Comentários']\n",
    "\n",
    "# Crie a tabela formatada em Markdown\n",
    "tabela_ranking_markdown = tabulate(tabela_ranking, headers='keys', tablefmt='pipe')"
   ]
  },
  {
   "cell_type": "markdown",
   "metadata": {},
   "source": [
    "### Ranking por tema"
   ]
  },
  {
   "cell_type": "code",
   "execution_count": 51,
   "metadata": {},
   "outputs": [],
   "source": [
    "# Agrupe os dados por 'category/name/pt-BR' e agregue as contagens\n",
    "temas_df = new_data.groupby('category/name/pt-BR').agg({\n",
    "    'title/pt-BR': 'nunique',  # Contagem de propostas únicas\n",
    "    'supports': 'sum',         # Soma dos votos\n",
    "    'comments': 'sum'         # Soma dos comentários\n",
    "}).reset_index()\n",
    "\n",
    "# Renomeie as colunas\n",
    "temas_df.columns = ['Temas', 'Nº de Propostas', 'Nº de Votos', 'Nº de Comentários']\n",
    "\n",
    "# Crie a tabela formatada em Markdown\n",
    "temas_df_markdown = tabulate(temas_df, headers='keys', tablefmt='pipe')"
   ]
  },
  {
   "cell_type": "markdown",
   "metadata": {},
   "source": [
    "### Ranking Tópicos"
   ]
  },
  {
   "cell_type": "code",
   "execution_count": 52,
   "metadata": {},
   "outputs": [],
   "source": [
    "import pandas as pd\n",
    "\n",
    "topics_path = 'C:\\\\Users\\\\leibr\\\\Documents\\\\Lappis\\\\conjuv\\\\data\\\\topics.csv'\n",
    "# Carregar o arquivo topics.csv em latin-1\n",
    "topics_df = pd.read_csv(topics_path, sep=';', encoding='utf-8')\n",
    "\n",
    "# Selecionar apenas as colunas 'topic_1', 'topic_2' e 'topic_3'\n",
    "topics_df = topics_df[['Tópico 1', 'Tópico 2', 'Tópico 3']]\n"
   ]
  },
  {
   "cell_type": "code",
   "execution_count": 53,
   "metadata": {},
   "outputs": [],
   "source": [
    "# Inicialize listas vazias para os tópicos mais citados de cada coluna\n",
    "top_topic_1 = []\n",
    "top_topic_2 = []\n",
    "top_topic_3 = []\n",
    "\n",
    "# Função para obter os tópicos mais citados em uma coluna e separá-los por linhas\n",
    "def get_top_topics(column):\n",
    "    all_topics = column.str.extract('(.+?) \\(')[0]\n",
    "    topic_counts = all_topics.value_counts()\n",
    "    top_topics = topic_counts.head(20).index.tolist()\n",
    "    return '\\n'.join(top_topics)\n",
    "\n",
    "# Obtenha os tópicos mais citados em cada coluna e armazene-os nas listas\n",
    "top_topic_1.append(get_top_topics(topics_df['Tópico 1']))\n",
    "top_topic_2.append(get_top_topics(topics_df['Tópico 2']))\n",
    "top_topic_3.append(get_top_topics(topics_df['Tópico 3']))\n",
    "\n",
    "# Crie um novo DataFrame com as listas de tópicos mais citados\n",
    "top_topics_df = pd.DataFrame({\n",
    "    'Tópico 1': top_topic_1,\n",
    "    'Tópico 2': top_topic_2,\n",
    "    'Tópico 3': top_topic_3\n",
    "})\n",
    "\n",
    "\n",
    "# Para exibir a tabela formatada em Markdown, você pode fazer:\n",
    "top_topics_df = tabulate(top_topics_df, headers='keys', tablefmt='pipe')\n",
    "\n",
    "#markdown_table = top_topics_df.to_markdown(index=False)\n",
    "\n",
    "#print(top_topics_df)"
   ]
  },
  {
   "cell_type": "code",
   "execution_count": 54,
   "metadata": {},
   "outputs": [],
   "source": [
    "total_propostas = len(new_data)\n",
    "propostas_acima_de_30_votos = len(new_data[new_data['supports'] > 30])\n",
    "propostas_abaixo_de_10_votos = len(new_data[new_data['supports'] < 10])\n",
    "porcentagem_abaixo_de_10_votos = (propostas_abaixo_de_10_votos / total_propostas) * 100\n",
    "menor_votos_entre_propostas = new_data['supports'].min()"
   ]
  },
  {
   "cell_type": "code",
   "execution_count": 55,
   "metadata": {},
   "outputs": [],
   "source": [
    "# Crie o título com a data atual\n",
    "titulo = f\"<center>Relatório Conjuv ({date.today().strftime('%d/%m/%Y')})</center>\"\n",
    "\n",
    "# Caminho para o arquivo Markdown\n",
    "report_path = 'relatorio_conjuv.md'\n",
    "\n",
    "# Crie o arquivo Markdown com o título e a imagem\n",
    "with open(report_path, 'w', encoding='utf-8') as report_file:\n",
    "    report_file.write(f\"# {titulo}\\n\\n\")\n",
    "    report_file.write(\"</p>\\n\\n\")\n",
    "\n",
    "# Abra o arquivo novamente para adicionar o sumário\n",
    "with open(report_path, 'a', encoding='utf-8') as report_file:\n",
    "    report_file.write(\"\\n# Sumário:\\n\")\n",
    "    report_file.write(\"- [TOP 20 Propostas por Voto no Geral](#top-20-propostas-por-voto-no-geral)\\n\")\n",
    "    report_file.write(\"- [Análise Qualitativa das Propostas](#análise-qualitativa-das-propostas)\\n\")\n",
    "\n",
    "    report_file.write(\"- [Ranking por Tópicos](#ranking-por-tópicos)\\n\")\n",
    "    \n",
    "# Abra o arquivo Markdown para adicionar as tabelas\n",
    "with open(report_path, 'a', encoding='utf-8') as report_file:\n",
    "    report_file.write(f\"## *TOP 20 Propostas por Voto no Geral*\\n{tabela_ranking_markdown}\\n\\n\")\n",
    "    report_file.write(f\"## *Análise Qualitativa das Propostas* \\n Os temas com o maior número de propostas são: \\n{temas_df_markdown}\\n\")\n",
    "    report_file.write(f\"- De {total_propostas} propostas atuais, apenas {propostas_acima_de_30_votos} delas apresentam votação acima de 30;\\n\")\n",
    "    report_file.write(f\"- {propostas_abaixo_de_10_votos} propostas estão com menos de 10 votos ({porcentagem_abaixo_de_10_votos:.2f}% do total de propostas);\\n\")\n",
    "    report_file.write(f\"- Todos os programas apresentam votação acima de {menor_votos_entre_propostas};\\n\")\n",
    "\n",
    "    \n",
    "    report_file.write(f\"## *Ranking por Tópicos* \\n{top_topics_df}\\n\")\n",
    "\n"
   ]
  }
 ],
 "metadata": {
  "kernelspec": {
   "display_name": "Python 3",
   "language": "python",
   "name": "python3"
  },
  "language_info": {
   "codemirror_mode": {
    "name": "ipython",
    "version": 3
   },
   "file_extension": ".py",
   "mimetype": "text/x-python",
   "name": "python",
   "nbconvert_exporter": "python",
   "pygments_lexer": "ipython3",
   "version": "3.11.3"
  },
  "orig_nbformat": 4
 },
 "nbformat": 4,
 "nbformat_minor": 2
}
