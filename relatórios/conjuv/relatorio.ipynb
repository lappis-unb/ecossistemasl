{
 "cells": [
  {
   "cell_type": "code",
   "execution_count": 404,
   "metadata": {},
   "outputs": [],
   "source": [
    "import pandas as pd\n",
    "import matplotlib.pyplot as plt\n",
    "from tabulate import tabulate\n",
    "from datetime import date\n",
    "import os"
   ]
  },
  {
   "cell_type": "code",
   "execution_count": 405,
   "metadata": {},
   "outputs": [],
   "source": [
    "DARK_BLUE = '#3557A9'\n",
    "DARK_GREEN = '#50974F'\n",
    "DARK_RED = '#D43F2C'\n",
    "DARK_YELLOW = '#F8D65A'\n",
    "\n",
    "BLUE = '#627EC3'\n",
    "GREEN = '#7ABA79'\n",
    "RED = '#E36656'\n",
    "YELLOW = '#FFE480'\n",
    "\n",
    "LIGHT_BLUE = '#8CA5E2'\n",
    "LIGHT_GREEN = '#A3D9A3'\n",
    "LIGHT_RED = '#F6887A'\n",
    "LIGHT_YELLOW = '#FFEA9D'"
   ]
  },
  {
   "cell_type": "markdown",
   "metadata": {},
   "source": [
    "### Dados de acesso"
   ]
  },
  {
   "cell_type": "code",
   "execution_count": 406,
   "metadata": {},
   "outputs": [],
   "source": [
    "import pandas as pd\n",
    "# Caminho para o arquivo CSV\n",
    "acesso_path = 'C:\\\\Users\\\\leibr\\\\Documents\\\\Lappis\\\\conjuv\\\\data\\\\conjuv_11-09.csv'\n",
    "\n",
    "# Carregar o arquivo topics.csv em UTF-8 e usar ponto e vírgula como separador\n",
    "acesso_path = pd.read_csv(acesso_path, sep=';', encoding='utf-8')\n",
    "\n",
    "selected_columns = ['Visualizações únicas de páginas', 'Visualizações de páginas', 'Tempo médio na página', 'Taxa de ressalto']\n",
    "\n",
    "# Selecionar as colunas desejadas\n",
    "acesso_tabela = acesso_path[selected_columns]\n",
    "\n",
    "acesso_tabela = tabulate(acesso_tabela, headers='keys', tablefmt='pipe')"
   ]
  },
  {
   "cell_type": "code",
   "execution_count": null,
   "metadata": {},
   "outputs": [],
   "source": []
  },
  {
   "cell_type": "code",
   "execution_count": 407,
   "metadata": {},
   "outputs": [],
   "source": [
    "proposals_path = 'C:\\\\Users\\\\leibr\\\\Documents\\\\Lappis\\\\conjuv\\\\data\\\\conjuv_propostas.csv'\n",
    "\n",
    "df_sheets = pd.read_csv(proposals_path, sep=';', encoding='utf-8')\n",
    "\n",
    "import pandas as pd\n",
    "\n",
    "\n",
    "data = (df_sheets['participatory_space/url'] == 'http://brasilparticipativo.presidencia.gov.br/assemblies/confjuv4?assembly_slug=confjuv4') & \\\n",
    "         (~df_sheets['state'].isin(['rejected', 'withdrawn']))\n",
    "\n",
    "\n",
    "new_data = df_sheets[data]\n",
    "\n",
    "report_path = 'relatorio_conjuv.md'"
   ]
  },
  {
   "cell_type": "markdown",
   "metadata": {},
   "source": [
    "### Top 20 propostas por voto"
   ]
  },
  {
   "cell_type": "code",
   "execution_count": 408,
   "metadata": {},
   "outputs": [],
   "source": [
    "\n",
    "new_data = new_data.sort_values(by='supports', ascending=False)\n",
    "\n",
    "top_20_programas = new_data.head(20)\n",
    "\n",
    "tabela_ranking = top_20_programas[['id', 'title/pt-BR', 'category/name/pt-BR', 'supports', 'comments']].copy()\n",
    "tabela_ranking.columns = ['ID', 'Propostas', 'Temas', 'Nº de Votos', 'Nº de Comentários']\n",
    "\n",
    "\n",
    "# URL base para as propostas\n",
    "base_url = \"http://brasilparticipativo.presidencia.gov.br/assemblies/confjuv4/f/10/proposals/\"\n",
    "\n",
    "# Função para criar o link para cada proposta\n",
    "def create_link(proposal_id, proposal_name):\n",
    "    url = f\"{base_url}{proposal_id}\"\n",
    "    return f\"[{proposal_name}]({url})\"\n",
    "\n",
    "# Aplicar a função para criar os links na coluna 'Propostas'\n",
    "tabela_ranking['Propostas'] = tabela_ranking.apply(lambda row: create_link(row['ID'], row['Propostas']), axis=1)\n",
    "\n",
    "# Formatar a tabela em Markdown\n",
    "tabela_ranking_markdown = tabulate(tabela_ranking, headers='keys', tablefmt='pipe', showindex=False)\n"
   ]
  },
  {
   "cell_type": "markdown",
   "metadata": {},
   "source": [
    "### Ranking por tema"
   ]
  },
  {
   "cell_type": "code",
   "execution_count": 409,
   "metadata": {},
   "outputs": [],
   "source": [
    "\n",
    "temas_df = new_data.groupby('category/name/pt-BR').agg({\n",
    "    'title/pt-BR': 'nunique',  \n",
    "    'supports': 'sum',        \n",
    "    'comments': 'sum'        \n",
    "}).reset_index()\n",
    "\n",
    "temas_df.columns = ['Temas', 'Nº de Propostas', 'Nº de Votos', 'Nº de Comentários']\n",
    "\n",
    "temas_df_markdown = tabulate(temas_df, headers='keys', tablefmt='pipe')"
   ]
  },
  {
   "cell_type": "markdown",
   "metadata": {},
   "source": [
    "### Ranking Tópicos"
   ]
  },
  {
   "cell_type": "code",
   "execution_count": 410,
   "metadata": {},
   "outputs": [],
   "source": [
    "# Caminho para o arquivo CSV\n",
    "topics_path = 'C:\\\\Users\\\\leibr\\\\Documents\\\\Lappis\\\\conjuv\\\\data\\\\topics.csv'\n",
    "\n",
    "# Carregar o arquivo topics.csv em UTF-8 e usar ponto e vírgula como separador\n",
    "topics_df = pd.read_csv(topics_path, sep=';', encoding='utf-8')\n",
    "\n",
    "# Selecionar as colunas desejadas\n",
    "selected_columns = ['tema', 'titulo', 'proposta', 'Tópico 1', 'Tópico 2', 'Tópico 3', 'Tópico 4', 'Tópico 5']\n",
    "topics_df = topics_df[selected_columns]\n",
    "\n",
    "# Função para extrair o nome do tópico sem a porcentagem\n",
    "def extract_topic_name(topic_with_percentage):\n",
    "    if isinstance(topic_with_percentage, str):\n",
    "        return topic_with_percentage.split('(')[0].strip()\n",
    "    else:\n",
    "        return ''\n",
    "\n",
    "# Aplicar a função para remover a porcentagem dos tópicos\n",
    "for col in ['Tópico 1', 'Tópico 2', 'Tópico 3', 'Tópico 4', 'Tópico 5']:\n",
    "    topics_df[col] = topics_df[col].apply(extract_topic_name)\n"
   ]
  },
  {
   "cell_type": "code",
   "execution_count": 411,
   "metadata": {},
   "outputs": [],
   "source": [
    "import pandas as pd\n",
    "\n",
    "# Suponhamos que você já carregou e pré-processou os dados conforme mencionado anteriormente.\n",
    "\n",
    "# Função para contar propostas por tópico em uma coluna\n",
    "def count_proposals_by_topic(topic_column):\n",
    "    topics = topic_column.str.split(', ')\n",
    "    flattened_topics = [item.strip() for sublist in topics.dropna() for item in sublist]\n",
    "    topic_counts = pd.Series(flattened_topics).value_counts()\n",
    "    return topic_counts\n",
    "\n",
    "# Contagem de propostas por tópico nas colunas 'Tópico 1' e 'Tópico 2'\n",
    "topic_1_counts = count_proposals_by_topic(topics_df['Tópico 1'])\n",
    "topic_2_counts = count_proposals_by_topic(topics_df['Tópico 2'])\n",
    "\n",
    "# Crie DataFrames para os top 10 tópicos em 'Tópico 1' e 'Tópico 2'\n",
    "top_10_topic_1 = pd.DataFrame({'Tópico 1': topic_1_counts.index[:10], 'Qtd Propostas': topic_1_counts.values[:10]})\n",
    "top_10_topic_2 = pd.DataFrame({'Tópico 2': topic_2_counts.index[:10], 'Qtd Propostas': topic_2_counts.values[:10]})\n",
    "\n",
    "# Combine os DataFrames\n",
    "combined_df = pd.concat([top_10_topic_1, top_10_topic_2], axis=1)\n"
   ]
  },
  {
   "cell_type": "code",
   "execution_count": 412,
   "metadata": {},
   "outputs": [],
   "source": [
    "total_propostas = len(new_data)\n",
    "propostas_acima_de_30_votos = len(new_data[new_data['supports'] > 30])\n",
    "propostas_abaixo_de_10_votos = len(new_data[new_data['supports'] < 10])\n",
    "porcentagem_abaixo_de_10_votos = (propostas_abaixo_de_10_votos / total_propostas) * 100\n",
    "menor_votos_entre_propostas = new_data['supports'].min()"
   ]
  },
  {
   "cell_type": "code",
   "execution_count": 413,
   "metadata": {},
   "outputs": [],
   "source": [
    "\n",
    "titulo = f\"<center>Relatório Conjuv ({date.today().strftime('%d/%m/%Y')})</center>\"\n",
    "\n",
    "report_path = 'relatorio_conjuv.md'\n",
    "\n",
    "\n",
    "with open(report_path, 'w', encoding='utf-8') as report_file:\n",
    "    report_file.write(f\"# {titulo}\\n\\n\")\n",
    "    report_file.write(\"</p>\\n\\n\")\n",
    "\n",
    "with open(report_path, 'a', encoding='utf-8') as report_file:\n",
    "    report_file.write(\"\\n# Sumário:\\n\")\n",
    "    report_file.write(\"- [Dados de Acesso](#dados-de-acesso)\\n\")\n",
    "    report_file.write(\"- [TOP 20 Propostas por Voto no Geral](#top-20-propostas-por-voto-no-geral)\\n\")\n",
    "    report_file.write(\"- [Análise Qualitativa das Propostas](#análise-qualitativa-das-propostas)\\n\")\n",
    "    report_file.write(\"- [Ranking por Tópicos](#ranking-por-tópicos)\\n\")\n",
    "\n",
    "with open(report_path, 'a', encoding='utf-8') as report_file:\n",
    "    report_file.write(f'## *Dados de Acesso*\\n{acesso_tabela}\\n\\n')\n",
    "    report_file.write(f'### **Perfil do visitante**\\n\\n')\n",
    "    report_file.write('\\n<p align=\"center\">\\n')\n",
    "    report_file.write('  <img src=\"../conjuv/data/painel_visitante.png\" alt=\"Painel de um visitante\"/>\\n')\n",
    "    report_file.write('</p>\\n\\n')\n",
    "\n",
    "    report_file.write(f\"## *TOP 20 Propostas por Voto no Geral*\\n{tabela_ranking_markdown}\\n\\n\")\n",
    "    report_file.write(f\"## *Análise Qualitativa das Propostas* \\n Os temas com o maior número de propostas são: \\n{temas_df_markdown}\\n\")\n",
    "    report_file.write(f\"- De {total_propostas} propostas atuais, apenas {propostas_acima_de_30_votos} delas apresentam votação acima de 30;\\n\")\n",
    "    report_file.write(f\"- {propostas_abaixo_de_10_votos} propostas estão com menos de 10 votos ({porcentagem_abaixo_de_10_votos:.2f}% do total de propostas);\\n\")\n",
    "    report_file.write(f\"- Todos os programas apresentam votação acima de {menor_votos_entre_propostas};\\n\")\n",
    "    report_file.write(f\"## *Ranking por Tópicos*\\n\")\n",
    "    report_file.write(tabulate(combined_df, headers='keys', tablefmt='pipe', showindex=False))\n",
    "\n",
    "   \n",
    "\n"
   ]
  },
  {
   "cell_type": "code",
   "execution_count": null,
   "metadata": {},
   "outputs": [],
   "source": []
  }
 ],
 "metadata": {
  "kernelspec": {
   "display_name": "Python 3",
   "language": "python",
   "name": "python3"
  },
  "language_info": {
   "codemirror_mode": {
    "name": "ipython",
    "version": 3
   },
   "file_extension": ".py",
   "mimetype": "text/x-python",
   "name": "python",
   "nbconvert_exporter": "python",
   "pygments_lexer": "ipython3",
   "version": "3.11.3"
  },
  "orig_nbformat": 4
 },
 "nbformat": 4,
 "nbformat_minor": 2
}
